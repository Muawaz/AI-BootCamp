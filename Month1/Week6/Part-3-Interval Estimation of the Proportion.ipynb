{
 "cells": [
  {
   "cell_type": "markdown",
   "metadata": {
    "id": "hEJnkuRdRaG0"
   },
   "source": [
    "## Coding Exercise #0206"
   ]
  },
  {
   "cell_type": "markdown",
   "metadata": {
    "id": "onQAIzcBRaG7"
   },
   "source": [
    "### 1. Interval Estimation of the Proportion:"
   ]
  },
  {
   "cell_type": "code",
   "execution_count": 1,
   "metadata": {
    "id": "TvXdL94YRaG8"
   },
   "outputs": [],
   "source": [
    "import numpy as np\n",
    "import scipy.stats as st"
   ]
  },
  {
   "cell_type": "markdown",
   "metadata": {
    "id": "OU0wi4ubRaG-"
   },
   "source": [
    "1). There are two candidates for the election: A and B.\n",
    "The candidate A wants to survey his approval rating.\n",
    "Out of 100 suerveyed, 55 answered positively.\n",
    "Can A be sure of this election?\n",
    "- Assume that A gets elected with 50% or more.\n",
    "- Use 95% confidence interval."
   ]
  },
  {
   "cell_type": "code",
   "execution_count": 2,
   "metadata": {
    "id": "v1CRVZ9YRaG_",
    "outputId": "736ca101-d6b3-4d4d-9d8d-259fe8d0ca80"
   },
   "outputs": [
    {
     "data": {
      "text/plain": [
       "(np.float64(0.45249302291006066), np.float64(0.6475069770899394))"
      ]
     },
     "execution_count": 2,
     "metadata": {},
     "output_type": "execute_result"
    }
   ],
   "source": [
    "# 95% Confidence Interval.\n",
    "# We apply the expression for the standard error (SE) from the lecture.\n",
    "# W ignore additional corrections.\n",
    "n_yes = 55\n",
    "n_total = 100\n",
    "p_mean = n_yes/n_total\n",
    "SE = np.sqrt(p_mean*(1-p_mean)/n_total)\n",
    "st.norm.interval(0.95, loc = p_mean, scale=SE)"
   ]
  },
  {
   "cell_type": "markdown",
   "metadata": {
    "id": "yeONUNruRaHB"
   },
   "source": [
    "*=> The confidence interval has the lower blound below 50%. So A cannot be sure with the confidence level of 95%.*"
   ]
  },
  {
   "cell_type": "markdown",
   "metadata": {
    "id": "69iRX4tNRaHC"
   },
   "source": [
    "2). Out of 1000 suerveyed, 550 answered positively. Can A be sure of this election?\n",
    "- Assume that A gets elected with 50% or more.\n",
    "- Use 95% confidence interval."
   ]
  },
  {
   "cell_type": "code",
   "execution_count": 3,
   "metadata": {
    "id": "NshN8aQcRaHD",
    "outputId": "b2ea8268-2f83-4f87-e75a-524403f6a23c"
   },
   "outputs": [
    {
     "data": {
      "text/plain": [
       "(np.float64(0.5191655864637935), np.float64(0.5808344135362066))"
      ]
     },
     "execution_count": 3,
     "metadata": {},
     "output_type": "execute_result"
    }
   ],
   "source": [
    "# 95% Confidence Interval.\n",
    "# We apply the expression for the standard error (SE) from the lecture.\n",
    "# W ignore additional corrections.\n",
    "n_yes = 550\n",
    "n_total = 1000\n",
    "p_mean = n_yes/n_total\n",
    "SE = np.sqrt(p_mean*(1-p_mean)/n_total)\n",
    "st.norm.interval(0.95, loc = p_mean, scale=SE)"
   ]
  },
  {
   "cell_type": "markdown",
   "metadata": {
    "id": "-KbFo6cHRaHE"
   },
   "source": [
    "*=> The confidence interval has the lower bound above 50%. So A can be sure with the confidence level of 95%.*"
   ]
  },
  {
   "cell_type": "code",
   "execution_count": null,
   "metadata": {
    "id": "TgxtA_JKRaHE"
   },
   "outputs": [],
   "source": []
  }
 ],
 "metadata": {
  "colab": {
   "provenance": []
  },
  "kernelspec": {
   "display_name": "Python 3",
   "language": "python",
   "name": "python3"
  },
  "language_info": {
   "codemirror_mode": {
    "name": "ipython",
    "version": 3
   },
   "file_extension": ".py",
   "mimetype": "text/x-python",
   "name": "python",
   "nbconvert_exporter": "python",
   "pygments_lexer": "ipython3",
   "version": "3.12.5"
  }
 },
 "nbformat": 4,
 "nbformat_minor": 0
}
