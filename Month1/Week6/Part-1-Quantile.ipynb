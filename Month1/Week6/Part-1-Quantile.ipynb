{
 "cells": [
  {
   "cell_type": "markdown",
   "metadata": {
    "id": "m_d9JrVkPutO"
   },
   "source": [
    "## Coding Exercise #0204"
   ]
  },
  {
   "cell_type": "markdown",
   "metadata": {
    "id": "0W9HI_9qPutX"
   },
   "source": [
    "### 1. Quantile:"
   ]
  },
  {
   "cell_type": "code",
   "execution_count": 2,
   "metadata": {
    "id": "UrcCBGxrPutY"
   },
   "outputs": [],
   "source": [
    "import scipy.stats as st\n",
    "import numpy as np"
   ]
  },
  {
   "cell_type": "markdown",
   "metadata": {
    "id": "0zJ5sohGPutb"
   },
   "source": [
    "#### 1.1. Standard Normal:"
   ]
  },
  {
   "cell_type": "code",
   "execution_count": 3,
   "metadata": {
    "id": "zehLd6x8Putc"
   },
   "outputs": [],
   "source": [
    "# Standard Normal corresponds to mu = 0 and sigma = 1.\n",
    "mu = 0\n",
    "sigma = 1"
   ]
  },
  {
   "cell_type": "code",
   "execution_count": 4,
   "metadata": {
    "id": "sRKrKP1QPutd",
    "outputId": "73112e3c-bb1f-46dd-8a79-029fb9330928"
   },
   "outputs": [
    {
     "data": {
      "text/plain": [
       "np.float64(1.6448536269514722)"
      ]
     },
     "execution_count": 4,
     "metadata": {},
     "output_type": "execute_result"
    }
   ],
   "source": [
    "# Quantile at alpha = 0.95\n",
    "# This is useful when calculating 90% confidence interval.\n",
    "alpha = 0.95\n",
    "st.norm.ppf(alpha, loc = mu , scale = sigma)"
   ]
  },
  {
   "cell_type": "code",
   "execution_count": 5,
   "metadata": {
    "id": "sJ0MmF4nPuti",
    "outputId": "0ff36950-f38c-4b42-d468-7c26cdd2db21"
   },
   "outputs": [
    {
     "data": {
      "text/plain": [
       "np.float64(1.959963984540054)"
      ]
     },
     "execution_count": 5,
     "metadata": {},
     "output_type": "execute_result"
    }
   ],
   "source": [
    "# Quantile at alpha = 0.975\n",
    "# This is useful when calculating 95% confidence interval.\n",
    "alpha = 0.975\n",
    "st.norm.ppf(alpha, loc = mu , scale = sigma)"
   ]
  },
  {
   "cell_type": "markdown",
   "metadata": {
    "id": "jeSd3L51Putk"
   },
   "source": [
    "#### 1.2. Student-t:"
   ]
  },
  {
   "cell_type": "code",
   "execution_count": 6,
   "metadata": {
    "id": "E8aDlG59Putl",
    "outputId": "39cf22fd-24f9-40c9-d1c6-4c9d140bf9f3"
   },
   "outputs": [
    {
     "name": "stdout",
     "output_type": "stream",
     "text": [
      "Degree of Freedom =      10,  Quantile =   1.812461\n",
      "Degree of Freedom =      50,  Quantile =   1.675905\n",
      "Degree of Freedom =     100,  Quantile =   1.660234\n",
      "Degree of Freedom =    2000,  Quantile =   1.645616\n",
      "Degree of Freedom =  100000,  Quantile =   1.644869\n"
     ]
    }
   ],
   "source": [
    "# Quantiles at alpha = 0.95 with changing degree of freedom.\n",
    "alpha=0.95\n",
    "for df in [10,50,100,2000,100000]:\n",
    "    val = st.t.ppf(alpha,df)\n",
    "    print( 'Degree of Freedom = %7d,  Quantile = %10f' %(df,val))"
   ]
  },
  {
   "cell_type": "code",
   "execution_count": 7,
   "metadata": {
    "id": "RhdK52QBPutm",
    "outputId": "4844fd9f-71ec-48d0-efb1-a56df96264a7"
   },
   "outputs": [
    {
     "name": "stdout",
     "output_type": "stream",
     "text": [
      "Degree of Freedom =      10,  Quantile =   2.228139\n",
      "Degree of Freedom =      50,  Quantile =   2.008559\n",
      "Degree of Freedom =     100,  Quantile =   1.983972\n",
      "Degree of Freedom =    2000,  Quantile =   1.961151\n",
      "Degree of Freedom =  100000,  Quantile =   1.959988\n"
     ]
    }
   ],
   "source": [
    "# Quantiles at alpha = 0.975 with changing degree of freedom.\n",
    "alpha=0.95\n",
    "alpha=0.975\n",
    "for df in [10,50,100,2000,100000]:\n",
    "    val = st.t.ppf(alpha,df)\n",
    "    print( 'Degree of Freedom = %7d,  Quantile = %10f' %(df,val))"
   ]
  },
  {
   "cell_type": "markdown",
   "metadata": {
    "id": "jsEOcMWIPutn"
   },
   "source": [
    "#### 1.3. Chi-square:"
   ]
  },
  {
   "cell_type": "code",
   "execution_count": 8,
   "metadata": {
    "id": "02K9J4m6Putn",
    "outputId": "eeec0a01-e2cc-4e27-d4a0-ff1571c197fd"
   },
   "outputs": [
    {
     "data": {
      "text/plain": [
       "np.float64(0.8437643724222779)"
      ]
     },
     "execution_count": 8,
     "metadata": {},
     "output_type": "execute_result"
    }
   ],
   "source": [
    "# P(X <= 8) with degree of freedom = 5.\n",
    "df = 5\n",
    "st.chi2.cdf(8, df)"
   ]
  },
  {
   "cell_type": "code",
   "execution_count": 9,
   "metadata": {
    "id": "oXqL6Po0Puto",
    "outputId": "f1ecb6bd-093e-478c-b53f-f0dc4fa37a46"
   },
   "outputs": [
    {
     "data": {
      "text/plain": [
       "np.float64(8.000000010482703)"
      ]
     },
     "execution_count": 9,
     "metadata": {},
     "output_type": "execute_result"
    }
   ],
   "source": [
    "# Quantile at alpha = 0.843764373 with degree of freedom = 5\n",
    "df = 5\n",
    "alpha = 0.843764373\n",
    "st.chi2.ppf(alpha, df)"
   ]
  },
  {
   "cell_type": "markdown",
   "metadata": {
    "id": "i77CUI1yPutp"
   },
   "source": [
    "*So, have verified that the Quantile is indeed an inverse function of the CDF.*"
   ]
  },
  {
   "cell_type": "code",
   "execution_count": null,
   "metadata": {
    "id": "plCPBEm8Putq"
   },
   "outputs": [],
   "source": []
  }
 ],
 "metadata": {
  "colab": {
   "provenance": []
  },
  "kernelspec": {
   "display_name": "Python 3",
   "language": "python",
   "name": "python3"
  },
  "language_info": {
   "codemirror_mode": {
    "name": "ipython",
    "version": 3
   },
   "file_extension": ".py",
   "mimetype": "text/x-python",
   "name": "python",
   "nbconvert_exporter": "python",
   "pygments_lexer": "ipython3",
   "version": "3.12.5"
  }
 },
 "nbformat": 4,
 "nbformat_minor": 0
}
